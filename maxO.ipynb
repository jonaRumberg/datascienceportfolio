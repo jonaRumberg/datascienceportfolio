{
 "cells": [
  {
   "cell_type": "code",
   "execution_count": null,
   "id": "3f609e21",
   "metadata": {},
   "outputs": [],
   "source": [
    "import pandas as pd\n",
    "import matplotlib.pyplot as plt\n",
    "\n",
    "df_train = pd.read_csv(\"data/smoker_train.csv\")\n",
    "df_train.info()"
   ]
  },
  {
   "cell_type": "code",
   "execution_count": null,
   "id": "c8ae809e",
   "metadata": {},
   "outputs": [],
   "source": [
    "df_train[\"triglyceride5\"] = df_train[\"triglyceride\"] / 5\n",
    "df_train_subset = df_train[['HDL', 'LDL', 'triglyceride5', 'Cholesterol']].head(30)\n",
    "ax = df_train_subset[['HDL', 'LDL', 'triglyceride5']].plot(kind='bar', stacked=True, figsize=(12,6))\n",
    "df_train_subset['Cholesterol'].plot(ax=ax, color='black', marker='o', linewidth=2, label='Cholesterol', secondary_y=False)\n",
    "plt.xlabel('Index')\n",
    "plt.ylabel('Value')\n",
    "plt.legend()\n",
    "plt.tight_layout()\n",
    "plt.show()\n",
    "\n"
   ]
  },
  {
   "cell_type": "code",
   "execution_count": null,
   "id": "ff0d2a9c",
   "metadata": {},
   "outputs": [],
   "source": [
    "df_train[\"chol_diff\"] = df_train[\"Cholesterol\"]-df_train[\"HDL\"]-df_train[\"LDL\"]-df_train[\"triglyceride5\"]\n",
    "df_train[\"chol_diff\"] = df_train[\"chol_diff\"].abs()\n",
    "num_exact_zero = (df_train[\"chol_diff\"] == 0).sum()\n",
    "num_st_one = (df_train[\"chol_diff\"] < 1).sum()\n",
    "num_st_30 = (df_train[\"chol_diff\"] < 30).sum()\n",
    "\n",
    "print(f\"==0: {num_exact_zero}\")\n",
    "print(f\"<1 : {num_st_one}\")\n",
    "print(f\"<30 : {num_st_30}\")\n",
    "\n",
    "df_train = df_train[df_train[\"chol_diff\"] >= 30]\n",
    "\n",
    "plt.figure(figsize=(8, 5))\n",
    "df_train[\"chol_diff\"].hist(bins=30, color='skyblue', edgecolor='black')\n",
    "plt.xlabel(\"Cholesterol Difference (chol_diff)\")\n",
    "plt.ylabel(\"Frequency\")\n",
    "plt.title(\"Histogram of Cholesterol Difference\")\n",
    "plt.tight_layout()\n",
    "plt.show()"
   ]
  }
 ],
 "metadata": {
  "kernelspec": {
   "display_name": "Python 3",
   "language": "python",
   "name": "python3"
  },
  "language_info": {
   "codemirror_mode": {
    "name": "ipython",
    "version": 3
   },
   "file_extension": ".py",
   "mimetype": "text/x-python",
   "name": "python",
   "nbconvert_exporter": "python",
   "pygments_lexer": "ipython3",
   "version": "3.13.4"
  }
 },
 "nbformat": 4,
 "nbformat_minor": 5
}
