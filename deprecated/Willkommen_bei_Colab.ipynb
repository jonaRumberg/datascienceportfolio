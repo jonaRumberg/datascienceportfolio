{
 "cells": [
  {
   "cell_type": "markdown",
   "metadata": {
    "application/vnd.databricks.v1+cell": {
     "cellMetadata": {},
     "inputWidgets": {},
     "nuid": "f1acba44-f2b7-4ef4-8c00-341cdf127f37",
     "showTitle": false,
     "tableResultSettingsMap": {},
     "title": ""
    }
   },
   "source": [
    "# Vorlesung 3"
   ]
  },
  {
   "cell_type": "code",
   "execution_count": 0,
   "metadata": {
    "application/vnd.databricks.v1+cell": {
     "cellMetadata": {
      "byteLimit": 2048000,
      "rowLimit": 10000
     },
     "inputWidgets": {},
     "nuid": "dbf62a51-0801-4b54-920b-622f15d47dcc",
     "showTitle": false,
     "tableResultSettingsMap": {},
     "title": ""
    }
   },
   "outputs": [],
   "source": [
    "import pandas as pd\n",
    "\n",
    "df = pd.read_csv(\"winequality-white.csv\")\n",
    "df.describe()"
   ]
  },
  {
   "cell_type": "code",
   "execution_count": 0,
   "metadata": {
    "application/vnd.databricks.v1+cell": {
     "cellMetadata": {
      "byteLimit": 2048000,
      "rowLimit": 10000
     },
     "collapsed": true,
     "inputWidgets": {},
     "nuid": "44d5ef48-2f0f-424d-b821-2a295ed7439d",
     "showTitle": false,
     "tableResultSettingsMap": {},
     "title": ""
    }
   },
   "outputs": [],
   "source": [
    "qualityGroup = df.groupby('quality')['pH'].count()\n",
    "print(qualityGroup)\n"
   ]
  },
  {
   "cell_type": "code",
   "execution_count": 0,
   "metadata": {
    "application/vnd.databricks.v1+cell": {
     "cellMetadata": {
      "byteLimit": 2048000,
      "rowLimit": 10000
     },
     "inputWidgets": {},
     "nuid": "154b712b-3212-4710-9862-a245ed78ae5f",
     "showTitle": false,
     "tableResultSettingsMap": {},
     "title": ""
    }
   },
   "outputs": [],
   "source": [
    "import matplotlib.pyplot as plt\n",
    "\n",
    "qualityGroup.plot(kind='bar')\n",
    "plt.xlabel('Quality')\n",
    "plt.ylabel('Count Wines')\n",
    "plt.title('Count of Wines by Quality')\n",
    "plt.show()"
   ]
  },
  {
   "cell_type": "code",
   "execution_count": 0,
   "metadata": {
    "application/vnd.databricks.v1+cell": {
     "cellMetadata": {
      "byteLimit": 2048000,
      "rowLimit": 10000
     },
     "inputWidgets": {},
     "nuid": "31d85036-cb85-4647-850c-f338125bef25",
     "showTitle": false,
     "tableResultSettingsMap": {},
     "title": ""
    }
   },
   "outputs": [],
   "source": [
    "pHClasses = df['pH'].round(1)\n",
    "pHClasses = pHClasses.value_counts()\n",
    "pHClasses.sort_index(inplace=True)\n",
    "\n",
    "print(pHClasses)\n"
   ]
  },
  {
   "cell_type": "code",
   "execution_count": 0,
   "metadata": {
    "application/vnd.databricks.v1+cell": {
     "cellMetadata": {
      "byteLimit": 2048000,
      "rowLimit": 10000
     },
     "inputWidgets": {},
     "nuid": "aab5e427-9c8f-4b3b-b5d6-1f265f3b7428",
     "showTitle": false,
     "tableResultSettingsMap": {},
     "title": ""
    }
   },
   "outputs": [],
   "source": [
    "\n",
    "pHClasses.plot(kind='bar')\n",
    "plt.xlabel('pH')\n",
    "plt.ylabel('Count Wines')\n",
    "plt.title('Count of Wines by pH')\n",
    "\n",
    "plt.show()"
   ]
  },
  {
   "cell_type": "code",
   "execution_count": 0,
   "metadata": {
    "application/vnd.databricks.v1+cell": {
     "cellMetadata": {
      "byteLimit": 2048000,
      "rowLimit": 10000
     },
     "inputWidgets": {},
     "nuid": "7315d551-7353-45d3-b19f-c0bf0af6f22d",
     "showTitle": false,
     "tableResultSettingsMap": {},
     "title": ""
    }
   },
   "outputs": [],
   "source": [
    "#Clean up density\n",
    "\n",
    "#If density in the area of 0.8 to 1.2 times 10\n",
    "#If density in the area of 8 to 12 do nothing\n",
    "#If density in the area of 80 to 120 by 10\n",
    "#If density in the area of 800 to 1200 by 100\n",
    "\n",
    "df['density'] = df['density'].apply(lambda x: x * 10 if x >= 0.8 and x < 1.4 else x)\n",
    "#df['density'] = df['density'].apply(lambda x: x * 1 if x >= 8 and x < 14 else x)\n",
    "df['density'] = df['density'].apply(lambda x: x / 10 if x >= 80 and x < 140 else x)\n",
    "df['density'] = df['density'].apply(lambda x: x / 100 if x >= 800 and x < 1400 else x)\n",
    "\n",
    "print(df['density'])"
   ]
  },
  {
   "cell_type": "code",
   "execution_count": 0,
   "metadata": {
    "application/vnd.databricks.v1+cell": {
     "cellMetadata": {
      "byteLimit": 2048000,
      "rowLimit": 10000
     },
     "inputWidgets": {},
     "nuid": "a4db64c4-8aa4-42b1-9677-aa8fbc92e846",
     "showTitle": false,
     "tableResultSettingsMap": {},
     "title": ""
    }
   },
   "outputs": [],
   "source": [
    "densityClasses = df['density'].round(2)\n",
    "\n",
    "densityClasses = densityClasses.value_counts()\n",
    "densityClasses.sort_index(inplace=True)\n",
    "\n",
    "print(densityClasses)\n"
   ]
  },
  {
   "cell_type": "code",
   "execution_count": 0,
   "metadata": {
    "application/vnd.databricks.v1+cell": {
     "cellMetadata": {
      "byteLimit": 2048000,
      "rowLimit": 10000
     },
     "inputWidgets": {},
     "nuid": "14febb06-7798-4662-b63e-85fb41a5e0d4",
     "showTitle": false,
     "tableResultSettingsMap": {},
     "title": ""
    }
   },
   "outputs": [],
   "source": [
    "\n",
    "densityClasses.plot(kind='bar')\n",
    "plt.xlabel('density')\n",
    "plt.ylabel('Count Wines')\n",
    "plt.title('Count of Wines by density')\n",
    "\n",
    "plt.show()"
   ]
  },
  {
   "cell_type": "code",
   "execution_count": 0,
   "metadata": {
    "application/vnd.databricks.v1+cell": {
     "cellMetadata": {
      "byteLimit": 2048000,
      "rowLimit": 10000
     },
     "inputWidgets": {},
     "nuid": "8ad7cf1f-0c20-4b69-83c6-236ae9459240",
     "showTitle": false,
     "tableResultSettingsMap": {},
     "title": ""
    }
   },
   "outputs": [],
   "source": [
    "df['densityClass'] = df['density'].round(2)\n",
    "\n",
    "df.head()"
   ]
  },
  {
   "cell_type": "code",
   "execution_count": 0,
   "metadata": {
    "application/vnd.databricks.v1+cell": {
     "cellMetadata": {
      "byteLimit": 2048000,
      "rowLimit": 10000
     },
     "inputWidgets": {},
     "nuid": "fb0b24f8-8d24-413c-9812-ffeb27089ffd",
     "showTitle": false,
     "tableResultSettingsMap": {},
     "title": ""
    }
   },
   "outputs": [],
   "source": [
    "plotData = df[['densityClass', 'total sulfur dioxide']]\n",
    "\n",
    "plotData.plot(kind='scatter', x='densityClass', y='total sulfur dioxide')\n",
    "plt.xlabel('density')\n",
    "plt.ylabel('total sulfur dioxide')\n",
    "plt.title('Density vs total sulfur dioxide')\n",
    "plt.show()"
   ]
  },
  {
   "cell_type": "code",
   "execution_count": 0,
   "metadata": {
    "application/vnd.databricks.v1+cell": {
     "cellMetadata": {
      "byteLimit": 2048000,
      "rowLimit": 10000
     },
     "inputWidgets": {},
     "nuid": "7656f609-5ef5-4038-a796-089602efba50",
     "showTitle": false,
     "tableResultSettingsMap": {},
     "title": ""
    }
   },
   "outputs": [],
   "source": [
    "plotData = df[['densityClass', 'residual sugar']]\n",
    "\n",
    "plotData.plot(kind='scatter', x='densityClass', y='residual sugar')\n",
    "plt.xlabel('density')\n",
    "plt.ylabel('residual sugar')\n",
    "plt.title('Density vs residual sugar')\n",
    "plt.show()"
   ]
  },
  {
   "cell_type": "code",
   "execution_count": 0,
   "metadata": {
    "application/vnd.databricks.v1+cell": {
     "cellMetadata": {
      "byteLimit": 2048000,
      "rowLimit": 10000
     },
     "inputWidgets": {},
     "nuid": "aeea41da-aaef-4515-8700-b4d3c871fd59",
     "showTitle": false,
     "tableResultSettingsMap": {},
     "title": ""
    }
   },
   "outputs": [],
   "source": [
    "densityAnomaly = df[df['densityClass'] > 11.5]\n",
    "densityAnomaly.describe()"
   ]
  },
  {
   "cell_type": "code",
   "execution_count": 0,
   "metadata": {
    "application/vnd.databricks.v1+cell": {
     "cellMetadata": {
      "byteLimit": 2048000,
      "rowLimit": 10000
     },
     "inputWidgets": {},
     "nuid": "6a419389-de32-4ba6-b9d5-a961a3fb8383",
     "showTitle": false,
     "tableResultSettingsMap": {},
     "title": ""
    }
   },
   "outputs": [],
   "source": [
    "df.describe()"
   ]
  },
  {
   "cell_type": "code",
   "execution_count": 0,
   "metadata": {
    "application/vnd.databricks.v1+cell": {
     "cellMetadata": {
      "byteLimit": 2048000,
      "rowLimit": 10000
     },
     "inputWidgets": {},
     "nuid": "f8954683-c276-4982-9163-5c23873ea795",
     "showTitle": false,
     "tableResultSettingsMap": {},
     "title": ""
    }
   },
   "outputs": [],
   "source": [
    "df.info()\n"
   ]
  },
  {
   "cell_type": "markdown",
   "metadata": {
    "application/vnd.databricks.v1+cell": {
     "cellMetadata": {},
     "inputWidgets": {},
     "nuid": "26833de1-d16a-4581-a6f8-2920f87aa6ea",
     "showTitle": false,
     "tableResultSettingsMap": {},
     "title": ""
    }
   },
   "source": [
    "| Index | Column                | Non-null Count | Dtype   | Type    |\n",
    "|-------|-----------------------|----------------|---------|---------|\n",
    "| 0     | fixed acidity         | 4898           | float64 | kardinal |\n",
    "| 1     | volatile acidity      | 4898           | float64 | kardinal |\n",
    "| 2     | citric acid           | 4898           | float64 | kardinal |\n",
    "| 3     | residual sugar        | 4898           | float64 | kardinal |\n",
    "| 4     | chlorides             | 4898           | float64 | kardinal |\n",
    "| 5     | free sulfur dioxide   | 4898           | float64 | kardinal |\n",
    "| 6     | total sulfur dioxide  | 4898           | float64 | kardinal |\n",
    "| 7     | density               | 4898           | bool    | kardinal |\n",
    "| 8     | pH                    | 4898           | float64 | kardinal |\n",
    "| 9     | sulphates             | 4898           | float64 | kardinal |\n",
    "| 10    | quality               | 4898           | int64   | ordinal |\n",
    "| 12    | densityClass          | 4898           | float64 | ordinal |"
   ]
  }
 ],
 "metadata": {
  "application/vnd.databricks.v1+notebook": {
   "computePreferences": null,
   "dashboards": [],
   "environmentMetadata": null,
   "inputWidgetPreferences": null,
   "language": "python",
   "notebookMetadata": {
    "pythonIndentUnit": 4
   },
   "notebookName": "Willkommen_bei_Colab",
   "widgets": {}
  },
  "colab": {
   "include_colab_link": true,
   "name": "Willkommen bei Colab",
   "provenance": []
  },
  "kernelspec": {
   "display_name": "Python 3",
   "name": "python3"
  },
  "language_info": {
   "name": "python"
  }
 },
 "nbformat": 4,
 "nbformat_minor": 0
}
