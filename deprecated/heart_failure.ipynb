{
 "cells": [
  {
   "cell_type": "code",
   "execution_count": null,
   "id": "d8a2a654",
   "metadata": {},
   "outputs": [],
   "source": [
    "import pandas as pd\n",
    "import seaborn as sns\n",
    "import matplotlib.pyplot as plt\n",
    "# from plotly.subplots import make_subplots\n",
    "# import plotly.express as px\n",
    "# import plotly.graph_objects as go\n",
    "\n",
    "df = pd.read_csv(\"data/heart_failure.csv\")"
   ]
  },
  {
   "cell_type": "code",
   "execution_count": null,
   "id": "f353515e",
   "metadata": {},
   "outputs": [],
   "source": [
    "df.info()"
   ]
  },
  {
   "cell_type": "code",
   "execution_count": null,
   "id": "6d0e3a18",
   "metadata": {},
   "outputs": [],
   "source": [
    "df.describe()"
   ]
  },
  {
   "cell_type": "code",
   "execution_count": null,
   "id": "9ef043b7",
   "metadata": {},
   "outputs": [],
   "source": [
    "sns.boxplot(x=\"smoking\", y=\"platelets\", hue=\"sex\", data=df, orient=\"v\")\n",
    "# sns.boxplot(x=\"sex\", y=\"age\", data=df, orient=\"v\")\n",
    "plt.show()"
   ]
  },
  {
   "cell_type": "code",
   "execution_count": null,
   "id": "a699b258",
   "metadata": {},
   "outputs": [],
   "source": [
    "sns.catplot(x=\"sex\", y=\"age\", col=\"smoking\",kind=\"bar\", data=df)"
   ]
  },
  {
   "cell_type": "code",
   "execution_count": null,
   "id": "cf885a89",
   "metadata": {},
   "outputs": [],
   "source": [
    "df.head()"
   ]
  },
  {
   "cell_type": "code",
   "execution_count": null,
   "id": "ec2bec44",
   "metadata": {},
   "outputs": [],
   "source": [
    "# Aufgabe 6\n",
    "\n",
    "df.info() \n",
    "#-> keine fehlenden Werte\n",
    "\n",
    "df = df.drop_duplicates()\n",
    "df.info()\n",
    "#-> keine Duplikate"
   ]
  }
 ],
 "metadata": {
  "kernelspec": {
   "display_name": "Python 3",
   "language": "python",
   "name": "python3"
  },
  "language_info": {
   "codemirror_mode": {
    "name": "ipython",
    "version": 3
   },
   "file_extension": ".py",
   "mimetype": "text/x-python",
   "name": "python",
   "nbconvert_exporter": "python",
   "pygments_lexer": "ipython3",
   "version": "3.11.5"
  }
 },
 "nbformat": 4,
 "nbformat_minor": 5
}
