{
 "cells": [
  {
   "cell_type": "code",
   "execution_count": null,
   "id": "8c92cfda",
   "metadata": {},
   "outputs": [],
   "source": [
    "import pandas as pd\n",
    "\n",
    "df = pd.read_csv(\"../data/smoker_train.csv\")"
   ]
  },
  {
   "cell_type": "markdown",
   "id": "eb7b04b3",
   "metadata": {},
   "source": [
    "# Sehkraft"
   ]
  },
  {
   "cell_type": "code",
   "execution_count": null,
   "id": "e9376a52",
   "metadata": {},
   "outputs": [],
   "source": [
    "df = df[[\"eyesight(left)\", \"eyesight(right)\"]]\n",
    "bins = [0, 1, 2, 3, float('inf')]\n",
    "labels = ['0-1', '1-2', '2-3', '>3']\n",
    "\n",
    "left_counts = pd.cut(df['eyesight(left)'], bins=bins, labels=labels, right=True, include_lowest=True).value_counts().sort_index()\n",
    "right_counts = pd.cut(df['eyesight(right)'], bins=bins, labels=labels, right=True, include_lowest=True).value_counts().sort_index()\n",
    "\n",
    "result = pd.DataFrame({'eyesight(left)': left_counts, 'eyesight(right)': right_counts})\n",
    "result.index = pd.IntervalIndex.from_tuples([(bins[i], bins[i+1]) for i in range(len(bins)-1)], closed='right')\n",
    "print(result)\n",
    "exact_99_left = (df['eyesight(left)'] == 9.9).sum()\n",
    "exact_99_right = (df['eyesight(right)'] == 9.9).sum()\n",
    "print(f\"Anzahl Werte exakt 9,9 (left): {exact_99_left}\")\n",
    "print(f\"Anzahl Werte exakt 9,9 (right): {exact_99_right}\")"
   ]
  },
  {
   "cell_type": "markdown",
   "id": "5d02e055",
   "metadata": {},
   "source": [
    "# Leberwerte"
   ]
  },
  {
   "cell_type": "code",
   "execution_count": null,
   "id": "850609ca",
   "metadata": {},
   "outputs": [],
   "source": [
    "df_urine = pd.read_csv(\"../data/smoker_train.csv\", usecols=[\"Urine protein\"])\n",
    "# Show absolute value counts of \"Urine protein\" as a table\n",
    "urine_counts = df_urine[\"Urine protein\"].value_counts().sort_index()\n",
    "print(urine_counts)"
   ]
  }
 ],
 "metadata": {
  "kernelspec": {
   "display_name": "Python 3",
   "language": "python",
   "name": "python3"
  },
  "language_info": {
   "codemirror_mode": {
    "name": "ipython",
    "version": 3
   },
   "file_extension": ".py",
   "mimetype": "text/x-python",
   "name": "python",
   "nbconvert_exporter": "python",
   "pygments_lexer": "ipython3",
   "version": "3.13.4"
  }
 },
 "nbformat": 4,
 "nbformat_minor": 5
}
