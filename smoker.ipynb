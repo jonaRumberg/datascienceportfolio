{
 "cells": [
  {
   "cell_type": "code",
   "execution_count": 2,
   "id": "bb478d28",
   "metadata": {},
   "outputs": [],
   "source": [
    "import numpy as np\n",
    "import pandas as pd\n",
    "from matplotlib.pyplot import subplots\n",
    "import seaborn as sns\n",
    "import matplotlib.pyplot as plt\n",
    "\n",
    "from sklearn.linear_model import LinearRegression\n",
    "from sklearn.model_selection import train_test_split\n",
    "from sklearn.metrics import mean_squared_error, r2_score\n",
    "from sklearn.preprocessing import OneHotEncoder\n",
    "\n",
    "df_train = pd.read_csv(\"data/smoker_train.csv\")\n",
    "df_train = df_train.drop_duplicates()"
   ]
  },
  {
   "cell_type": "code",
   "execution_count": 5,
   "id": "09cfbc56",
   "metadata": {},
   "outputs": [
    {
     "name": "stdout",
     "output_type": "stream",
     "text": [
      "<class 'pandas.core.frame.DataFrame'>\n",
      "Index: 33467 entries, 0 to 38983\n",
      "Data columns (total 23 columns):\n",
      " #   Column               Non-Null Count  Dtype  \n",
      "---  ------               --------------  -----  \n",
      " 0   age                  33467 non-null  int64  \n",
      " 1   height(cm)           33467 non-null  int64  \n",
      " 2   weight(kg)           33467 non-null  int64  \n",
      " 3   waist(cm)            33467 non-null  float64\n",
      " 4   eyesight(left)       33467 non-null  float64\n",
      " 5   eyesight(right)      33467 non-null  float64\n",
      " 6   hearing(left)        33467 non-null  int64  \n",
      " 7   hearing(right)       33467 non-null  int64  \n",
      " 8   systolic             33467 non-null  int64  \n",
      " 9   relaxation           33467 non-null  int64  \n",
      " 10  fasting blood sugar  33467 non-null  int64  \n",
      " 11  Cholesterol          33467 non-null  int64  \n",
      " 12  triglyceride         33467 non-null  int64  \n",
      " 13  HDL                  33467 non-null  int64  \n",
      " 14  LDL                  33467 non-null  int64  \n",
      " 15  hemoglobin           33467 non-null  float64\n",
      " 16  Urine protein        33467 non-null  int64  \n",
      " 17  serum creatinine     33467 non-null  float64\n",
      " 18  AST                  33467 non-null  int64  \n",
      " 19  ALT                  33467 non-null  int64  \n",
      " 20  Gtp                  33467 non-null  int64  \n",
      " 21  dental caries        33467 non-null  int64  \n",
      " 22  smoking              33467 non-null  int64  \n",
      "dtypes: float64(5), int64(18)\n",
      "memory usage: 6.1 MB\n"
     ]
    }
   ],
   "source": [
    "df_train.info()"
   ]
  },
  {
   "cell_type": "markdown",
   "id": "38485869",
   "metadata": {},
   "source": [
    "# Machine Learning Modell"
   ]
  },
  {
   "cell_type": "code",
   "execution_count": null,
   "id": "06a40ece",
   "metadata": {},
   "outputs": [
    {
     "name": "stdout",
     "output_type": "stream",
     "text": [
      "Intercept: -88.19795969670112\n",
      "Coefficient for height(cm): 0.48261718334363224\n",
      "Coefficient for waist(cm): 0.9360556931683\n",
      "Coefficient for age: -0.15277880503622543\n",
      "Coefficient for relaxation: 0.06046176534277436\n",
      "Test Mean Squared Error: 24.341582330708672\n"
     ]
    }
   ],
   "source": [
    "# Use all columns except 'weight(kg)' and smoking as features\n",
    "X = df_train[['height(cm)', 'waist(cm)', 'age']]\n",
    "y = df_train['weight(kg)']\n",
    "\n",
    "# Split data into training and testing sets (using only training set for comparison)\n",
    "X_train, X_test, y_train, y_test = train_test_split(X, y, test_size=0.2, random_state=42)\n",
    "X_train_1, X_test_1, y_train_1, y_test_1 = train_test_split(X_train, y_train, test_size=0.2, random_state=42)\n",
    "\n",
    "# Training der Modelle\n",
    "lr_model = LinearRegression().fit(X_train_1, y_train_1)\n",
    "\n",
    "y_pred = lr_model.predict(X_test_1)\n",
    "\n",
    "print(f\"Intercept: {lr_model.intercept_}\")\n",
    "for name, coef in zip(X.columns, lr_model.coef_):\n",
    "    print(f\"Coefficient for {name}: {coef}\")\n",
    "\n",
    "mse = mean_squared_error(y_test_1, y_pred)\n",
    "print(f\"Test Mean Squared Error: {mse}\")"
   ]
  },
  {
   "cell_type": "code",
   "execution_count": null,
   "id": "78711fd5",
   "metadata": {},
   "outputs": [],
   "source": []
  }
 ],
 "metadata": {
  "kernelspec": {
   "display_name": "Python 3",
   "language": "python",
   "name": "python3"
  },
  "language_info": {
   "codemirror_mode": {
    "name": "ipython",
    "version": 3
   },
   "file_extension": ".py",
   "mimetype": "text/x-python",
   "name": "python",
   "nbconvert_exporter": "python",
   "pygments_lexer": "ipython3",
   "version": "3.13.3"
  }
 },
 "nbformat": 4,
 "nbformat_minor": 5
}
