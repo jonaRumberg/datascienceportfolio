{
 "cells": [
  {
   "cell_type": "code",
   "execution_count": null,
   "id": "bb478d28",
   "metadata": {},
   "outputs": [],
   "source": [
    "import pandas as pd\n",
    "import seaborn as sns\n",
    "import matplotlib.pyplot as plt\n",
    "\n",
    "df_train = pd.read_csv(\"data/smoker_train.csv\")\n",
    "df_train = df_train.drop_duplicates()\n",
    "df_test = pd.read_csv(\"data/smoker_test.csv\")"
   ]
  },
  {
   "cell_type": "code",
   "execution_count": 23,
   "id": "09cfbc56",
   "metadata": {},
   "outputs": [
    {
     "name": "stdout",
     "output_type": "stream",
     "text": [
      "<class 'pandas.core.frame.DataFrame'>\n",
      "RangeIndex: 38984 entries, 0 to 38983\n",
      "Data columns (total 23 columns):\n",
      " #   Column               Non-Null Count  Dtype  \n",
      "---  ------               --------------  -----  \n",
      " 0   age                  38984 non-null  int64  \n",
      " 1   height(cm)           38984 non-null  int64  \n",
      " 2   weight(kg)           38984 non-null  int64  \n",
      " 3   waist(cm)            38984 non-null  float64\n",
      " 4   eyesight(left)       38984 non-null  float64\n",
      " 5   eyesight(right)      38984 non-null  float64\n",
      " 6   hearing(left)        38984 non-null  int64  \n",
      " 7   hearing(right)       38984 non-null  int64  \n",
      " 8   systolic             38984 non-null  int64  \n",
      " 9   relaxation           38984 non-null  int64  \n",
      " 10  fasting blood sugar  38984 non-null  int64  \n",
      " 11  Cholesterol          38984 non-null  int64  \n",
      " 12  triglyceride         38984 non-null  int64  \n",
      " 13  HDL                  38984 non-null  int64  \n",
      " 14  LDL                  38984 non-null  int64  \n",
      " 15  hemoglobin           38984 non-null  float64\n",
      " 16  Urine protein        38984 non-null  int64  \n",
      " 17  serum creatinine     38984 non-null  float64\n",
      " 18  AST                  38984 non-null  int64  \n",
      " 19  ALT                  38984 non-null  int64  \n",
      " 20  Gtp                  38984 non-null  int64  \n",
      " 21  dental caries        38984 non-null  int64  \n",
      " 22  smoking              38984 non-null  int64  \n",
      "dtypes: float64(5), int64(18)\n",
      "memory usage: 6.8 MB\n"
     ]
    }
   ],
   "source": [
    "df_train.info()"
   ]
  },
  {
   "cell_type": "code",
   "execution_count": null,
   "id": "7ead4c45",
   "metadata": {},
   "outputs": [],
   "source": [
    "# Example: Plotting 'age' vs 'Cholesterol'\n",
    "sns.scatterplot(data=df, x='age', y='Cholesterol')\n",
    "plt.xlabel('Age')\n",
    "plt.ylabel('smoking')\n",
    "plt.title('Age vs Cholesterol')\n",
    "plt.show()"
   ]
  }
 ],
 "metadata": {
  "kernelspec": {
   "display_name": "Python 3",
   "language": "python",
   "name": "python3"
  },
  "language_info": {
   "codemirror_mode": {
    "name": "ipython",
    "version": 3
   },
   "file_extension": ".py",
   "mimetype": "text/x-python",
   "name": "python",
   "nbconvert_exporter": "python",
   "pygments_lexer": "ipython3",
   "version": "3.11.5"
  }
 },
 "nbformat": 4,
 "nbformat_minor": 5
}
