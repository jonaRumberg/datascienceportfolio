{
 "cells": [
  {
   "cell_type": "code",
   "execution_count": null,
   "id": "e0a84a63",
   "metadata": {},
   "outputs": [],
   "source": [
    "import numpy as np\n",
    "import pandas as pd\n",
    "import seaborn as sns\n",
    "import matplotlib.pyplot as plt"
   ]
  },
  {
   "cell_type": "code",
   "execution_count": null,
   "id": "391fcbfb",
   "metadata": {},
   "outputs": [],
   "source": [
    "df_train = pd.read_csv(\"data/smoker_train.csv\")\n",
    "df_train = df_train.drop_duplicates()"
   ]
  },
  {
   "cell_type": "markdown",
   "id": "11196e5d",
   "metadata": {},
   "source": [
    "# Grundlegende Visualiserung mit Matplotlib"
   ]
  },
  {
   "cell_type": "code",
   "execution_count": null,
   "id": "829eb197",
   "metadata": {},
   "outputs": [],
   "source": [
    "# Histogram of age distribution\n",
    "plt.figure(figsize=(8, 4))\n",
    "age_count = df_train['age'].value_counts().sort_index()\n",
    "plt.bar(age_count.index, age_count.values, width=2)\n",
    "plt.title('Age Distribution')\n",
    "plt.xlabel('Age')\n",
    "plt.ylabel('Count')\n",
    "plt.show()"
   ]
  },
  {
   "cell_type": "code",
   "execution_count": null,
   "id": "711edb23",
   "metadata": {},
   "outputs": [],
   "source": [
    "\n",
    "# Scatter plot: height vs weight\n",
    "plt.figure(figsize=(8, 4))\n",
    "plt.scatter(df_train['height(cm)'], df_train['weight(kg)'], alpha=0.3)\n",
    "plt.title('Height vs Weight')\n",
    "plt.xlabel('Height (cm)')\n",
    "plt.ylabel('Weight (kg)')\n",
    "plt.show()"
   ]
  },
  {
   "cell_type": "markdown",
   "id": "277ef692",
   "metadata": {},
   "source": [
    "## Complex Visualization"
   ]
  },
  {
   "cell_type": "code",
   "execution_count": null,
   "id": "0182eb9a",
   "metadata": {},
   "outputs": [],
   "source": [
    "# Boxplot of weight by smoking status\n",
    "plt.figure(figsize=(8, 4))\n",
    "df_train.boxplot(column='weight(kg)', by='smoking')\n",
    "plt.title('Weight by Smoking Status')\n",
    "plt.suptitle('')\n",
    "plt.xlabel('Smoking')\n",
    "plt.ylabel('Weight (kg)')\n",
    "plt.show()"
   ]
  },
  {
   "cell_type": "code",
   "execution_count": null,
   "id": "d00b0bb8",
   "metadata": {},
   "outputs": [],
   "source": [
    "# Do a pairplot to visualize relationships\n",
    "sns.pairplot(df_train, hue='smoking', vars=['age', 'height(cm)', 'weight(kg)', 'hemoglobin'])\n",
    "plt.suptitle('Pairplot of Features by Smoking Status', y=1.02)\n",
    "plt.show()"
   ]
  },
  {
   "cell_type": "markdown",
   "id": "3fd0e05c",
   "metadata": {},
   "source": [
    "## Benfords Law"
   ]
  },
  {
   "cell_type": "code",
   "execution_count": null,
   "id": "38b35a86",
   "metadata": {},
   "outputs": [],
   "source": [
    "benford_freq = np.log10(1 + 1 / np.arange(1, 10))\n",
    "\n",
    "for col in df_train.columns:\n",
    "    if df_train[col].dtype.kind in 'biufc':  # numeric columns only\n",
    "        values = df_train[col].dropna().astype(str)\n",
    "        leading_digits = values.str.lstrip('0').str.extract(r'^(\\d)').dropna()[0].astype(int)\n",
    "        observed_counts = leading_digits.value_counts().sort_index()\n",
    "        observed_freq = observed_counts / observed_counts.sum()\n",
    "\n",
    "        plt.figure(figsize=(8, 4))\n",
    "        plt.bar(observed_freq.index, observed_freq.values, alpha=0.7, label='Tatsächliche Verteilung')\n",
    "        plt.plot(np.arange(1, 10), benford_freq, 'ro-', label=\"Benford's Law\")\n",
    "        plt.xlabel('Führende Ziffer')\n",
    "        plt.ylabel('Rel. Häufigkeit')\n",
    "        # plt.title(f\"Leading Digit Distribution vs Benford's Law ('{col}')\")\n",
    "        plt.legend()\n",
    "        plt.show()\n"
   ]
  },
  {
   "cell_type": "markdown",
   "id": "061cec86",
   "metadata": {},
   "source": [
    "# Visualisierungen für Präsentation (Data Understanding & Data Prep)"
   ]
  },
  {
   "cell_type": "code",
   "execution_count": null,
   "id": "f42b29c1",
   "metadata": {},
   "outputs": [],
   "source": [
    "# Hemoglobin - Smoking\n",
    "\n",
    "plt.figure(figsize=(8, 4))\n",
    "for status in df_train['smoking'].unique():\n",
    "    subset = df_train[df_train['smoking'] == status]\n",
    "    plt.hist(subset['hemoglobin'], bins=100, alpha=0.5, label=f'Smoking: {status}')\n",
    "plt.title('Hemoglobin Distribution by Smoking Status')\n",
    "plt.xlabel('Hemoglobin')\n",
    "plt.ylabel('Count')\n",
    "plt.legend()\n",
    "plt.show()"
   ]
  },
  {
   "cell_type": "code",
   "execution_count": null,
   "id": "adcef998",
   "metadata": {},
   "outputs": [],
   "source": [
    "# Height - Smoking\n",
    "\n",
    "plt.figure(figsize=(8, 4))\n",
    "for status in df_train['smoking'].unique():\n",
    "    subset = df_train[df_train['smoking'] == status]\n",
    "    plt.hist(subset['height(cm)'], bins=11, alpha=0.5, label=f'Smoking: {status}')\n",
    "plt.title('Height(cm) Distribution by Smoking Status')\n",
    "plt.xlabel('Height(cm)')\n",
    "plt.ylabel('Count')\n",
    "plt.legend()\n",
    "plt.show()"
   ]
  }
 ],
 "metadata": {
  "kernelspec": {
   "display_name": "Python 3",
   "language": "python",
   "name": "python3"
  },
  "language_info": {
   "codemirror_mode": {
    "name": "ipython",
    "version": 3
   },
   "file_extension": ".py",
   "mimetype": "text/x-python",
   "name": "python",
   "nbconvert_exporter": "python",
   "pygments_lexer": "ipython3",
   "version": "3.13.4"
  }
 },
 "nbformat": 4,
 "nbformat_minor": 5
}
