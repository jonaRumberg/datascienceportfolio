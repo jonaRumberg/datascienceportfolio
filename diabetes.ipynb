{
 "cells": [
  {
   "cell_type": "code",
   "execution_count": null,
   "metadata": {
    "application/vnd.databricks.v1+cell": {
     "cellMetadata": {
      "byteLimit": 2048000,
      "rowLimit": 10000
     },
     "inputWidgets": {},
     "nuid": "79c6a6dc-a4bc-4e07-a351-7dbb7beac959",
     "showTitle": false,
     "tableResultSettingsMap": {},
     "title": ""
    }
   },
   "outputs": [],
   "source": [
    "import pandas as pd\n",
    "import seaborn as sns\n",
    "import matplotlib.pyplot as plt\n",
    "from plotly.subplots import make_subplots\n",
    "import plotly.express as px\n",
    "import plotly.graph_objects as go\n",
    "\n",
    "df = pd.read_csv(\"data/diabetes.csv\")"
   ]
  },
  {
   "cell_type": "code",
   "execution_count": null,
   "metadata": {
    "application/vnd.databricks.v1+cell": {
     "cellMetadata": {
      "byteLimit": 2048000,
      "rowLimit": 10000
     },
     "collapsed": true,
     "inputWidgets": {},
     "nuid": "6c3282e0-419f-4ae4-8936-c73964ad68cf",
     "showTitle": false,
     "tableResultSettingsMap": {},
     "title": ""
    }
   },
   "outputs": [],
   "source": [
    "df.info()"
   ]
  },
  {
   "cell_type": "code",
   "execution_count": 0,
   "metadata": {
    "application/vnd.databricks.v1+cell": {
     "cellMetadata": {
      "byteLimit": 2048000,
      "rowLimit": 10000
     },
     "collapsed": true,
     "inputWidgets": {},
     "nuid": "b2e72586-cd56-4ec2-a098-c67a6fdc9341",
     "showTitle": false,
     "tableResultSettingsMap": {},
     "title": ""
    }
   },
   "outputs": [],
   "source": [
    "correlation_matrix = df.corr()\n",
    "\n",
    "plt.figure(figsize=(8, 6))\n",
    "sns.heatmap(correlation_matrix, annot=False, cmap='coolwarm', fmt=\".2f\")\n",
    "plt.title('Correlation Heatmap of Features')\n",
    "plt.show()"
   ]
  },
  {
   "cell_type": "code",
   "execution_count": 0,
   "metadata": {
    "application/vnd.databricks.v1+cell": {
     "cellMetadata": {
      "byteLimit": 2048000,
      "rowLimit": 10000
     },
     "collapsed": true,
     "inputWidgets": {},
     "nuid": "31357932-6c86-428d-8262-dd42f4bccea9",
     "showTitle": false,
     "tableResultSettingsMap": {},
     "title": ""
    }
   },
   "outputs": [],
   "source": [
    "df_agg = df.groupby(['Age', 'Income']).size().reset_index(name='Count')\n",
    " \n",
    "plt.figure(figsize=(10, 6))\n",
    "sns.scatterplot(data=df_agg, x='Age', y='Income', size='Count', sizes=(20, 1500), color='blue', legend=False, alpha=0.6)\n",
    "plt.title('Scatterplot of Age vs Income')\n",
    "plt.xlabel('Age')\n",
    "plt.ylabel('Income')\n",
    "plt.show()"
   ]
  },
  {
   "cell_type": "code",
   "execution_count": null,
   "metadata": {},
   "outputs": [],
   "source": [
    "# Histogramme\n",
    "\n",
    "fig1 = make_subplots(rows=1, cols=3, subplot_titles=(\"log(N+1)-log(N)\", \"Verteilung\", \"Verteilung\"))\n",
    "\n",
    "# Scatterplot manuell hinzufügen\n",
    "fig1.add_trace(\n",
    "    go.Scatter(x=N[\"x\"], y=N[\"Benford\"], mode='markers'),\n",
    "    row=1, col=1\n",
    ")\n",
    "\n",
    "fig1.add_trace(\n",
    "    go.Histogram(x=staedte[\"1_Flaeche\"], histnorm=\"probability density\", name='Erste Ziffer Flaeche', xbins=dict(start=0, end=9, size=.5)),\n",
    "    row=1, col=2\n",
    ")\n",
    "fig1.add_trace(\n",
    "    go.Histogram(x=staedte[\"1_Bevoelkerung\"], histnorm=\"probability density\", name='Erste Ziffer Bevoelkerung', xbins=dict(start=0, end=9, size=.5)),\n",
    "    row=1, col=3\n",
    ")\n",
    "\n",
    "fig1.update_layout(height=600, width=800, title_text=\"\", xaxis_title_text=\"Ziffer\", yaxis_title_text=\"\")\n",
    "fig1.update_xaxes(title_text=\"Ziffer\", row=1, col=1)\n",
    "fig1.update_xaxes(title_text=\"Ziffer\", row=1, col=2)\n",
    "fig1.update_xaxes(title_text=\"Ziffer\", row=1, col=3)\n",
    "fig1.show()"
   ]
  }
 ],
 "metadata": {
  "application/vnd.databricks.v1+notebook": {
   "computePreferences": null,
   "dashboards": [],
   "environmentMetadata": null,
   "inputWidgetPreferences": null,
   "language": "python",
   "notebookMetadata": {
    "pythonIndentUnit": 4
   },
   "notebookName": "diabetes",
   "widgets": {}
  },
  "kernelspec": {
   "display_name": "Python 3",
   "language": "python",
   "name": "python3"
  },
  "language_info": {
   "codemirror_mode": {
    "name": "ipython",
    "version": 3
   },
   "file_extension": ".py",
   "mimetype": "text/x-python",
   "name": "python",
   "nbconvert_exporter": "python",
   "pygments_lexer": "ipython3",
   "version": "3.11.5"
  }
 },
 "nbformat": 4,
 "nbformat_minor": 0
}
