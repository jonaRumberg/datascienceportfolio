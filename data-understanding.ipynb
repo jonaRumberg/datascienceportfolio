{
 "cells": [
  {
   "cell_type": "markdown",
   "id": "8526a5ec",
   "metadata": {},
   "source": [
    "# Data Understanding"
   ]
  },
  {
   "cell_type": "code",
   "execution_count": null,
   "id": "6a0a3a5b",
   "metadata": {},
   "outputs": [],
   "source": [
    "import pandas as pd\n",
    "import seaborn as sns\n",
    "import matplotlib.pyplot as plt\n",
    "\n",
    "df = pd.read_csv(\"data/smoker_train.csv\")"
   ]
  },
  {
   "cell_type": "markdown",
   "id": "3fcbff4f",
   "metadata": {},
   "source": [
    "## Allgemeine Analyse"
   ]
  },
  {
   "cell_type": "code",
   "execution_count": null,
   "id": "bda6f773",
   "metadata": {},
   "outputs": [],
   "source": [
    "df.head()"
   ]
  },
  {
   "cell_type": "code",
   "execution_count": null,
   "id": "f441811c",
   "metadata": {},
   "outputs": [],
   "source": [
    "df.info()"
   ]
  },
  {
   "cell_type": "markdown",
   "id": "cca14745",
   "metadata": {},
   "source": [
    "## Merkmale"
   ]
  },
  {
   "cell_type": "markdown",
   "id": "f3f3eb5f",
   "metadata": {},
   "source": [
    "### Leberwerte"
   ]
  },
  {
   "cell_type": "code",
   "execution_count": null,
   "id": "c69cbdda",
   "metadata": {},
   "outputs": [],
   "source": [
    "df_urine = pd.read_csv(\"data/smoker_train.csv\", usecols=[\"Urine protein\"])\n",
    "urine_counts = df_urine[\"Urine protein\"].value_counts().sort_index()\n",
    "print(urine_counts)"
   ]
  }
 ],
 "metadata": {
  "kernelspec": {
   "display_name": "Python 3",
   "language": "python",
   "name": "python3"
  },
  "language_info": {
   "codemirror_mode": {
    "name": "ipython",
    "version": 3
   },
   "file_extension": ".py",
   "mimetype": "text/x-python",
   "name": "python",
   "nbconvert_exporter": "python",
   "pygments_lexer": "ipython3",
   "version": "3.13.4"
  }
 },
 "nbformat": 4,
 "nbformat_minor": 5
}
