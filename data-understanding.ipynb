{
 "cells": [
  {
   "cell_type": "markdown",
   "id": "8526a5ec",
   "metadata": {},
   "source": [
    "# Data Understanding"
   ]
  },
  {
   "cell_type": "code",
   "execution_count": 6,
   "id": "6a0a3a5b",
   "metadata": {},
   "outputs": [],
   "source": [
    "import pandas as pd\n",
    "import seaborn as sns\n",
    "import matplotlib.pyplot as plt\n",
    "\n",
    "df = pd.read_csv(\"data/smoker_train.csv\")"
   ]
  },
  {
   "cell_type": "markdown",
   "id": "3fcbff4f",
   "metadata": {},
   "source": [
    "## Allgemeine Analyse"
   ]
  },
  {
   "cell_type": "code",
   "execution_count": 7,
   "id": "bda6f773",
   "metadata": {},
   "outputs": [
    {
     "data": {
      "text/html": [
       "<div>\n",
       "<style scoped>\n",
       "    .dataframe tbody tr th:only-of-type {\n",
       "        vertical-align: middle;\n",
       "    }\n",
       "\n",
       "    .dataframe tbody tr th {\n",
       "        vertical-align: top;\n",
       "    }\n",
       "\n",
       "    .dataframe thead th {\n",
       "        text-align: right;\n",
       "    }\n",
       "</style>\n",
       "<table border=\"1\" class=\"dataframe\">\n",
       "  <thead>\n",
       "    <tr style=\"text-align: right;\">\n",
       "      <th></th>\n",
       "      <th>age</th>\n",
       "      <th>height(cm)</th>\n",
       "      <th>weight(kg)</th>\n",
       "      <th>waist(cm)</th>\n",
       "      <th>eyesight(left)</th>\n",
       "      <th>eyesight(right)</th>\n",
       "      <th>hearing(left)</th>\n",
       "      <th>hearing(right)</th>\n",
       "      <th>systolic</th>\n",
       "      <th>relaxation</th>\n",
       "      <th>...</th>\n",
       "      <th>HDL</th>\n",
       "      <th>LDL</th>\n",
       "      <th>hemoglobin</th>\n",
       "      <th>Urine protein</th>\n",
       "      <th>serum creatinine</th>\n",
       "      <th>AST</th>\n",
       "      <th>ALT</th>\n",
       "      <th>Gtp</th>\n",
       "      <th>dental caries</th>\n",
       "      <th>smoking</th>\n",
       "    </tr>\n",
       "  </thead>\n",
       "  <tbody>\n",
       "    <tr>\n",
       "      <th>0</th>\n",
       "      <td>35</td>\n",
       "      <td>170</td>\n",
       "      <td>85</td>\n",
       "      <td>97.0</td>\n",
       "      <td>0.9</td>\n",
       "      <td>0.9</td>\n",
       "      <td>1</td>\n",
       "      <td>1</td>\n",
       "      <td>118</td>\n",
       "      <td>78</td>\n",
       "      <td>...</td>\n",
       "      <td>70</td>\n",
       "      <td>142</td>\n",
       "      <td>19.8</td>\n",
       "      <td>1</td>\n",
       "      <td>1.0</td>\n",
       "      <td>61</td>\n",
       "      <td>115</td>\n",
       "      <td>125</td>\n",
       "      <td>1</td>\n",
       "      <td>1</td>\n",
       "    </tr>\n",
       "    <tr>\n",
       "      <th>1</th>\n",
       "      <td>20</td>\n",
       "      <td>175</td>\n",
       "      <td>110</td>\n",
       "      <td>110.0</td>\n",
       "      <td>0.7</td>\n",
       "      <td>0.9</td>\n",
       "      <td>1</td>\n",
       "      <td>1</td>\n",
       "      <td>119</td>\n",
       "      <td>79</td>\n",
       "      <td>...</td>\n",
       "      <td>71</td>\n",
       "      <td>114</td>\n",
       "      <td>15.9</td>\n",
       "      <td>1</td>\n",
       "      <td>1.1</td>\n",
       "      <td>19</td>\n",
       "      <td>25</td>\n",
       "      <td>30</td>\n",
       "      <td>1</td>\n",
       "      <td>0</td>\n",
       "    </tr>\n",
       "    <tr>\n",
       "      <th>2</th>\n",
       "      <td>45</td>\n",
       "      <td>155</td>\n",
       "      <td>65</td>\n",
       "      <td>86.0</td>\n",
       "      <td>0.9</td>\n",
       "      <td>0.9</td>\n",
       "      <td>1</td>\n",
       "      <td>1</td>\n",
       "      <td>110</td>\n",
       "      <td>80</td>\n",
       "      <td>...</td>\n",
       "      <td>57</td>\n",
       "      <td>112</td>\n",
       "      <td>13.7</td>\n",
       "      <td>3</td>\n",
       "      <td>0.6</td>\n",
       "      <td>1090</td>\n",
       "      <td>1400</td>\n",
       "      <td>276</td>\n",
       "      <td>0</td>\n",
       "      <td>0</td>\n",
       "    </tr>\n",
       "    <tr>\n",
       "      <th>3</th>\n",
       "      <td>45</td>\n",
       "      <td>165</td>\n",
       "      <td>80</td>\n",
       "      <td>94.0</td>\n",
       "      <td>0.8</td>\n",
       "      <td>0.7</td>\n",
       "      <td>1</td>\n",
       "      <td>1</td>\n",
       "      <td>158</td>\n",
       "      <td>88</td>\n",
       "      <td>...</td>\n",
       "      <td>46</td>\n",
       "      <td>91</td>\n",
       "      <td>16.9</td>\n",
       "      <td>1</td>\n",
       "      <td>0.9</td>\n",
       "      <td>32</td>\n",
       "      <td>36</td>\n",
       "      <td>36</td>\n",
       "      <td>0</td>\n",
       "      <td>0</td>\n",
       "    </tr>\n",
       "    <tr>\n",
       "      <th>4</th>\n",
       "      <td>20</td>\n",
       "      <td>165</td>\n",
       "      <td>60</td>\n",
       "      <td>81.0</td>\n",
       "      <td>1.5</td>\n",
       "      <td>0.1</td>\n",
       "      <td>1</td>\n",
       "      <td>1</td>\n",
       "      <td>109</td>\n",
       "      <td>64</td>\n",
       "      <td>...</td>\n",
       "      <td>47</td>\n",
       "      <td>92</td>\n",
       "      <td>14.9</td>\n",
       "      <td>1</td>\n",
       "      <td>1.2</td>\n",
       "      <td>26</td>\n",
       "      <td>28</td>\n",
       "      <td>15</td>\n",
       "      <td>0</td>\n",
       "      <td>0</td>\n",
       "    </tr>\n",
       "  </tbody>\n",
       "</table>\n",
       "<p>5 rows × 23 columns</p>\n",
       "</div>"
      ],
      "text/plain": [
       "   age  height(cm)  weight(kg)  waist(cm)  eyesight(left)  eyesight(right)  \\\n",
       "0   35         170          85       97.0             0.9              0.9   \n",
       "1   20         175         110      110.0             0.7              0.9   \n",
       "2   45         155          65       86.0             0.9              0.9   \n",
       "3   45         165          80       94.0             0.8              0.7   \n",
       "4   20         165          60       81.0             1.5              0.1   \n",
       "\n",
       "   hearing(left)  hearing(right)  systolic  relaxation  ...  HDL  LDL  \\\n",
       "0              1               1       118          78  ...   70  142   \n",
       "1              1               1       119          79  ...   71  114   \n",
       "2              1               1       110          80  ...   57  112   \n",
       "3              1               1       158          88  ...   46   91   \n",
       "4              1               1       109          64  ...   47   92   \n",
       "\n",
       "   hemoglobin  Urine protein  serum creatinine   AST   ALT  Gtp  \\\n",
       "0        19.8              1               1.0    61   115  125   \n",
       "1        15.9              1               1.1    19    25   30   \n",
       "2        13.7              3               0.6  1090  1400  276   \n",
       "3        16.9              1               0.9    32    36   36   \n",
       "4        14.9              1               1.2    26    28   15   \n",
       "\n",
       "   dental caries  smoking  \n",
       "0              1        1  \n",
       "1              1        0  \n",
       "2              0        0  \n",
       "3              0        0  \n",
       "4              0        0  \n",
       "\n",
       "[5 rows x 23 columns]"
      ]
     },
     "execution_count": 7,
     "metadata": {},
     "output_type": "execute_result"
    }
   ],
   "source": [
    "df.head()"
   ]
  },
  {
   "cell_type": "code",
   "execution_count": 8,
   "id": "f441811c",
   "metadata": {},
   "outputs": [
    {
     "name": "stdout",
     "output_type": "stream",
     "text": [
      "<class 'pandas.core.frame.DataFrame'>\n",
      "RangeIndex: 38984 entries, 0 to 38983\n",
      "Data columns (total 23 columns):\n",
      " #   Column               Non-Null Count  Dtype  \n",
      "---  ------               --------------  -----  \n",
      " 0   age                  38984 non-null  int64  \n",
      " 1   height(cm)           38984 non-null  int64  \n",
      " 2   weight(kg)           38984 non-null  int64  \n",
      " 3   waist(cm)            38984 non-null  float64\n",
      " 4   eyesight(left)       38984 non-null  float64\n",
      " 5   eyesight(right)      38984 non-null  float64\n",
      " 6   hearing(left)        38984 non-null  int64  \n",
      " 7   hearing(right)       38984 non-null  int64  \n",
      " 8   systolic             38984 non-null  int64  \n",
      " 9   relaxation           38984 non-null  int64  \n",
      " 10  fasting blood sugar  38984 non-null  int64  \n",
      " 11  Cholesterol          38984 non-null  int64  \n",
      " 12  triglyceride         38984 non-null  int64  \n",
      " 13  HDL                  38984 non-null  int64  \n",
      " 14  LDL                  38984 non-null  int64  \n",
      " 15  hemoglobin           38984 non-null  float64\n",
      " 16  Urine protein        38984 non-null  int64  \n",
      " 17  serum creatinine     38984 non-null  float64\n",
      " 18  AST                  38984 non-null  int64  \n",
      " 19  ALT                  38984 non-null  int64  \n",
      " 20  Gtp                  38984 non-null  int64  \n",
      " 21  dental caries        38984 non-null  int64  \n",
      " 22  smoking              38984 non-null  int64  \n",
      "dtypes: float64(5), int64(18)\n",
      "memory usage: 6.8 MB\n"
     ]
    }
   ],
   "source": [
    "df.info()"
   ]
  },
  {
   "cell_type": "markdown",
   "id": "cca14745",
   "metadata": {},
   "source": [
    "## Merkmale"
   ]
  },
  {
   "cell_type": "markdown",
   "id": "9405189c",
   "metadata": {},
   "source": [
    "### Personendaten"
   ]
  },
  {
   "cell_type": "code",
   "execution_count": null,
   "id": "a3413a95",
   "metadata": {},
   "outputs": [
    {
     "data": {
      "image/png": "[encoded data removed]",
      "text/plain": [
       "<Figure size 600x600 with 1 Axes>"
      ]
     },
     "metadata": {},
     "output_type": "display_data"
    }
   ],
   "source": [
    "smoking_counts = df[\"smoking\"].value_counts()\n",
    "plt.figure(figsize=(6, 6))\n",
    "plt.pie(smoking_counts, labels=smoking_counts.index, autopct='%1.1f%%', startangle=90, colors=['#66b3ff','#ff9999'])\n",
    "plt.legend(title=\"Smoking\", labels=[\"Non-Smoker\", \"Smoker\"])\n",
    "plt.tight_layout()\n",
    "plt.show()"
   ]
  },
  {
   "cell_type": "markdown",
   "id": "f3f3eb5f",
   "metadata": {},
   "source": [
    "### Leberwerte"
   ]
  },
  {
   "cell_type": "code",
   "execution_count": 10,
   "id": "c69cbdda",
   "metadata": {},
   "outputs": [
    {
     "name": "stdout",
     "output_type": "stream",
     "text": [
      "Urine protein\n",
      "1    36836\n",
      "2     1236\n",
      "3      667\n",
      "4      182\n",
      "5       58\n",
      "6        5\n",
      "Name: count, dtype: int64\n"
     ]
    }
   ],
   "source": [
    "df_urine = pd.read_csv(\"data/smoker_train.csv\", usecols=[\"Urine protein\"])\n",
    "urine_counts = df_urine[\"Urine protein\"].value_counts().sort_index()\n",
    "print(urine_counts)"
   ]
  }
 ],
 "metadata": {
  "kernelspec": {
   "display_name": "Python 3",
   "language": "python",
   "name": "python3"
  },
  "language_info": {
   "codemirror_mode": {
    "name": "ipython",
    "version": 3
   },
   "file_extension": ".py",
   "mimetype": "text/x-python",
   "name": "python",
   "nbconvert_exporter": "python",
   "pygments_lexer": "ipython3",
   "version": "3.13.4"
  }
 },
 "nbformat": 4,
 "nbformat_minor": 5
}
