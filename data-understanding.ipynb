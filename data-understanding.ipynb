{
 "cells": [
  {
   "cell_type": "markdown",
   "id": "8526a5ec",
   "metadata": {},
   "source": [
    "# Data Understanding"
   ]
  },
  {
   "cell_type": "code",
   "execution_count": null,
   "id": "6a0a3a5b",
   "metadata": {},
   "outputs": [],
   "source": [
    "import pandas as pd\n",
    "import seaborn as sns\n",
    "import matplotlib.pyplot as plt\n",
    "import numpy as np\n",
    "from scipy.stats import chi2_contingency\n",
    "\n",
    "df = pd.read_csv(\"data/smoker_train.csv\")"
   ]
  },
  {
   "cell_type": "markdown",
   "id": "3fcbff4f",
   "metadata": {},
   "source": [
    "## Allgemeine Analyse"
   ]
  },
  {
   "cell_type": "code",
   "execution_count": null,
   "id": "bda6f773",
   "metadata": {},
   "outputs": [],
   "source": [
    "df.head()"
   ]
  },
  {
   "cell_type": "code",
   "execution_count": null,
   "id": "f441811c",
   "metadata": {},
   "outputs": [],
   "source": [
    "df.info()"
   ]
  },
  {
   "cell_type": "markdown",
   "id": "cca14745",
   "metadata": {},
   "source": [
    "## Merkmale"
   ]
  },
  {
   "cell_type": "markdown",
   "id": "9405189c",
   "metadata": {},
   "source": [
    "### Personendaten"
   ]
  },
  {
   "cell_type": "code",
   "execution_count": null,
   "id": "a3413a95",
   "metadata": {},
   "outputs": [],
   "source": [
    "# Smoking\n",
    "smoking_counts = df[\"smoking\"].value_counts()\n",
    "plt.figure(figsize=(6, 6))\n",
    "plt.pie(smoking_counts, labels=smoking_counts.index, autopct='%1.1f%%', startangle=90, colors=['#66b3ff','#ff9999'])\n",
    "plt.legend(title=\"Smoking\", labels=[\"Non-Smoker\", \"Smoker\"])\n",
    "plt.tight_layout()\n",
    "plt.show()"
   ]
  },
  {
   "cell_type": "code",
   "execution_count": null,
   "id": "4828a473",
   "metadata": {},
   "outputs": [],
   "source": [
    "# Age\n",
    "plt.figure(figsize=(8, 4))\n",
    "age_count = df['age'].value_counts().sort_index()\n",
    "plt.bar(age_count.index, age_count.values, width=2)\n",
    "plt.title('Age Distribution')\n",
    "plt.xlabel('Age')\n",
    "plt.ylabel('Count')\n",
    "plt.show()"
   ]
  },
  {
   "cell_type": "code",
   "execution_count": null,
   "id": "7c0b8fa8",
   "metadata": {},
   "outputs": [],
   "source": [
    "# Scatter plot: height vs weight\n",
    "plt.figure(figsize=(8, 4))\n",
    "plt.scatter(df['height(cm)'], df['weight(kg)'], alpha=0.3)\n",
    "plt.title('Height vs Weight')\n",
    "plt.xlabel('Height (cm)')\n",
    "plt.ylabel('Weight (kg)')\n",
    "plt.show()"
   ]
  },
  {
   "cell_type": "code",
   "execution_count": null,
   "id": "ba5b29b4",
   "metadata": {},
   "outputs": [],
   "source": [
    "# Boxplot of weight by smoking status\n",
    "df.boxplot(column='weight(kg)', by='smoking')\n",
    "plt.title('Weight by Smoking Status')\n",
    "plt.suptitle('')\n",
    "plt.xlabel('Smoking')\n",
    "plt.ylabel('Weight (kg)')\n",
    "plt.show()"
   ]
  },
  {
   "cell_type": "markdown",
   "id": "af06fd17",
   "metadata": {},
   "source": [
    "### Gesundheitswerte"
   ]
  },
  {
   "cell_type": "code",
   "execution_count": null,
   "id": "48425e66",
   "metadata": {
    "vscode": {
     "languageId": "ruby"
    }
   },
   "outputs": [],
   "source": [
    "# Create the data for the table\n",
    "data = {\n",
    "    \"Intervall\": [\"[0, 1)\", \"[1, 2)\", \"[2, 3)\", \"[3, 9)\", \"[9, 10]\"],\n",
    "    \"Eyesight (left)\": [\n",
    "        df[(df['eyesight(left)'] >= 0) & (df['eyesight(left)'] < 1)].shape[0],\n",
    "        df[(df['eyesight(left)'] >= 1) & (df['eyesight(left)'] < 2)].shape[0],\n",
    "        df[(df['eyesight(left)'] >= 2) & (df['eyesight(left)'] < 3)].shape[0],\n",
    "        df[(df['eyesight(left)'] >= 3) & (df['eyesight(left)'] < 9)].shape[0],\n",
    "        df[(df['eyesight(left)'] >= 9) & (df['eyesight(left)'] < 10)].shape[0]\n",
    "    ],\n",
    "    \"Eyesight (right)\": [\n",
    "        df[(df['eyesight(right)'] >= 0) & (df['eyesight(right)'] < 1)].shape[0],\n",
    "        df[(df['eyesight(right)'] >= 1) & (df['eyesight(right)'] < 2)].shape[0],\n",
    "        df[(df['eyesight(right)'] >= 2) & (df['eyesight(right)'] < 3)].shape[0],\n",
    "        df[(df['eyesight(right)'] >= 3) & (df['eyesight(right)'] < 9)].shape[0],\n",
    "        df[(df['eyesight(right)'] >= 9) & (df['eyesight(right)'] <= 10)].shape[0]\n",
    "    ]\n",
    "}\n",
    "\n",
    "# Create DataFrame\n",
    "eyesight_df = pd.DataFrame(data)\n",
    "\n",
    "# Print the table\n",
    "print(eyesight_df.to_string(index=False))"
   ]
  },
  {
   "cell_type": "markdown",
   "id": "f3f3eb5f",
   "metadata": {},
   "source": [
    "### Laborwerte"
   ]
  },
  {
   "cell_type": "code",
   "execution_count": null,
   "id": "c69cbdda",
   "metadata": {},
   "outputs": [],
   "source": [
    "# Urin Protein Verteilung\n",
    "df_urine = pd.read_csv(\"data/smoker_train.csv\", usecols=[\"Urine protein\"])\n",
    "urine_counts = df_urine[\"Urine protein\"].value_counts().sort_index()\n",
    "print(urine_counts)"
   ]
  },
  {
   "cell_type": "markdown",
   "id": "4db09b2d",
   "metadata": {},
   "source": [
    "## Lage- und Steuungsmaße"
   ]
  },
  {
   "cell_type": "code",
   "execution_count": null,
   "id": "192ccdb9",
   "metadata": {},
   "outputs": [],
   "source": [
    "lagemasse = df.describe().transpose()\n",
    "\n",
    "lagemasse[\"rel. diff\"] = (lagemasse[\"mean\"]-lagemasse[\"50%\"])/lagemasse[\"mean\"]\n",
    "\n",
    "lagemasse"
   ]
  },
  {
   "cell_type": "markdown",
   "id": "b476b000",
   "metadata": {},
   "source": [
    "## Korrelation"
   ]
  },
  {
   "cell_type": "code",
   "execution_count": null,
   "id": "4d26dfed",
   "metadata": {},
   "outputs": [],
   "source": [
    "# Definitions\n",
    "cardinal_features = [\n",
    "    \"waist(cm)\",\n",
    "    \"age\",\n",
    "    \"height(cm)\",\n",
    "    \"weight(kg)\",\n",
    "    \"systolic\",\n",
    "    \"relaxation\",\n",
    "    \"eyesight(left)\",\n",
    "    \"eyesight(right)\",\n",
    "    \"Cholesterol\",\n",
    "    \"triglyceride\",\n",
    "    \"HDL\",\n",
    "    \"LDL\",\n",
    "    \"AST\",\n",
    "    \"ALT\",\n",
    "    \"Gtp\",\n",
    "    \"fasting blood sugar\",\n",
    "    \"hemoglobin\",\n",
    "    \"serum creatinine\",\n",
    "]\n",
    "\n",
    "ordinal_features = [\n",
    "    \"Urine protein\" # 1, 2, 3, 4, 5, 6\n",
    "]\n",
    "\n",
    "nominal_features = [\n",
    "    \"hearing(left)\",    # 1 and 2\n",
    "    \"hearing(right)\",   # 1 and 2\n",
    "    \"dental caries\",     # 0 and 1\n",
    "    \"smoking\"\n",
    "]"
   ]
  },
  {
   "cell_type": "markdown",
   "id": "8bd86aa6",
   "metadata": {},
   "source": [
    "### Kardinale Merkmale"
   ]
  },
  {
   "cell_type": "code",
   "execution_count": null,
   "id": "b36b27ab",
   "metadata": {},
   "outputs": [],
   "source": [
    "# Pearson\n",
    "df_cardinal = df[cardinal_features]\n",
    "\n",
    "corr_pearson = df_cardinal.corr(method='pearson')\n",
    "\n",
    "plt.figure(figsize=(12, 10))\n",
    "\n",
    "sns.heatmap(corr_pearson, annot=True, cmap='RdBu_r', center=0, \n",
    "            fmt='.2f', square=True)\n",
    "\n",
    "plt.show()"
   ]
  },
  {
   "cell_type": "code",
   "execution_count": null,
   "id": "07c563bf",
   "metadata": {},
   "outputs": [],
   "source": [
    "# Bessere Visualisierungen der stärksten korrelierenden Merkmale\n",
    "\n",
    "fig, axes = plt.subplots(2, 3, figsize=(18, 12))\n",
    "axes = axes.flatten()\n",
    "\n",
    "correlations_to_plot = [\n",
    "    ('waist(cm)', 'weight(kg)', 0.825),\n",
    "    ('systolic', 'relaxation', 0.759),\n",
    "    ('Cholesterol', 'LDL', 0.707),\n",
    "    ('AST', 'ALT', 0.697),\n",
    "    ('height(cm)', 'weight(kg)', 0.674),\n",
    "    ('height(cm)', 'hemoglobin', 0.537)\n",
    "]\n",
    "\n",
    "for i, (var1, var2, corr) in enumerate(correlations_to_plot):\n",
    "    sns.scatterplot(data=df, x=var1, y=var2, alpha=0.6, ax=axes[i])\n",
    "    sns.regplot(data=df, x=var1, y=var2, scatter=False, \n",
    "                color='red', ax=axes[i])\n",
    "    \n",
    "    axes[i].text(0.05, 0.95, f'r = {corr:.3f}', \n",
    "                transform=axes[i].transAxes, fontsize=12, \n",
    "                bbox=dict(boxstyle='round', facecolor='wheat', alpha=0.8))\n",
    "    \n",
    "    axes[i].set_title(f'{var1} vs {var2}', fontsize=12, fontweight='bold')\n",
    "    axes[i].grid(True, alpha=0.3)\n",
    "\n",
    "plt.suptitle('Stärkste Korrelationen - Kardinale Merkmale', fontsize=16, fontweight='bold')\n",
    "plt.tight_layout()\n",
    "plt.show()"
   ]
  },
  {
   "cell_type": "markdown",
   "id": "bb18ecc0",
   "metadata": {},
   "source": [
    "### Korrelationen mit der Zielvariablen"
   ]
  },
  {
   "cell_type": "code",
   "execution_count": null,
   "id": "1058698f",
   "metadata": {},
   "outputs": [],
   "source": [
    "# Pairplot \n",
    "sns.pairplot(df, hue='smoking', vars=['age', 'height(cm)', 'weight(kg)', 'hemoglobin'])\n",
    "plt.suptitle('Pairplot of Features by Smoking Status', y=1.02)\n",
    "plt.show()"
   ]
  },
  {
   "cell_type": "code",
   "execution_count": null,
   "id": "dc6a5ebb",
   "metadata": {},
   "outputs": [],
   "source": [
    "# Hemoglobin - Smoking\n",
    "plt.figure(figsize=(8, 4))\n",
    "for status in df['smoking'].unique():\n",
    "    subset = df[df['smoking'] == status]\n",
    "    plt.hist(subset['hemoglobin'], bins=100, alpha=0.5, label=f'Smoking: {status}')\n",
    "plt.title('Hemoglobin Distribution by Smoking Status')\n",
    "plt.xlabel('Hemoglobin')\n",
    "plt.ylabel('Count')\n",
    "plt.legend()\n",
    "plt.show()"
   ]
  },
  {
   "cell_type": "code",
   "execution_count": null,
   "id": "9d00c976",
   "metadata": {},
   "outputs": [],
   "source": [
    "# Height - Smoking\n",
    "plt.figure(figsize=(8, 4))\n",
    "for status in df['smoking'].unique():\n",
    "    subset = df[df['smoking'] == status]\n",
    "    plt.hist(subset['height(cm)'], bins=11, alpha=0.5, label=f'Smoking: {status}')\n",
    "plt.title('Height(cm) Distribution by Smoking Status')\n",
    "plt.xlabel('Height(cm)')\n",
    "plt.ylabel('Count')\n",
    "plt.legend()\n",
    "plt.show()"
   ]
  },
  {
   "cell_type": "code",
   "execution_count": null,
   "id": "bd3bf061",
   "metadata": {},
   "outputs": [],
   "source": [
    "fig, axes = plt.subplots(1, 2, figsize=(14, 5))\n",
    "\n",
    "for label, group in df.groupby('smoking'):\n",
    "    axes[0].hist(group['hemoglobin'], bins=100, alpha=0.6, label=f'Smoking={label}')\n",
    "axes[0].set_xlabel('Hemoglobin')\n",
    "axes[0].set_ylabel('Absolute Häufigkeit')\n",
    "axes[0].legend()\n",
    "\n",
    "df.boxplot(column='height(cm)', by='smoking', ax=axes[1])\n",
    "axes[1].set_xlabel('Smoking')\n",
    "axes[1].set_ylabel('Height (cm)')\n",
    "axes[1].set_title('')\n",
    "axes[1].set_xticklabels([0, 1])\n",
    "axes[1].get_figure().suptitle('')\n",
    "\n",
    "plt.show()"
   ]
  },
  {
   "cell_type": "code",
   "execution_count": null,
   "id": "5c256dc9",
   "metadata": {},
   "outputs": [],
   "source": [
    "# Weitere Merkmale - Smoking\n",
    "smoking_correlations = []\n",
    "for feature in cardinal_features:\n",
    "    if feature != 'smoking':\n",
    "        corr_val = df[feature].corr(df['smoking'])\n",
    "        smoking_correlations.append((feature, corr_val))\n",
    "\n",
    "smoking_correlations.sort(key=lambda x: abs(x[1]), reverse=True)\n",
    "features_for_smoking = [item[0] for item in smoking_correlations[:8]] \n",
    "corr_values = [item[1] for item in smoking_correlations[:8]]\n",
    "\n",
    "plt.figure(figsize=(12, 6))\n",
    "colors = ['red' if x < 0 else 'blue' for x in corr_values]\n",
    "bars = plt.bar(range(len(features_for_smoking)), corr_values, color=colors, alpha=0.7)\n",
    "\n",
    "plt.axhline(y=0, color='black', linestyle='-', alpha=0.3)\n",
    "plt.ylabel('Korrelation mit Smoking (Basierend auf Pearson)')\n",
    "plt.xticks(range(len(features_for_smoking)), features_for_smoking, rotation=45, ha='right')\n",
    "\n",
    "# Werte auf Balken anzeigen\n",
    "for bar, value in zip(bars, corr_values):\n",
    "    plt.text(bar.get_x() + bar.get_width()/2, \n",
    "             bar.get_height() + (0.005 if value > 0 else -0.005), \n",
    "             f'{value:.3f}', ha='center', va='bottom' if value > 0 else 'top')\n",
    "\n",
    "plt.tight_layout()\n",
    "plt.show()"
   ]
  },
  {
   "cell_type": "markdown",
   "id": "f4c9dbff",
   "metadata": {},
   "source": [
    "### Spearman"
   ]
  },
  {
   "cell_type": "code",
   "execution_count": null,
   "id": "5dceb2db",
   "metadata": {},
   "outputs": [],
   "source": [
    "ordinal_extended_features = [\n",
    "    \"age\", \"height(cm)\", \"weight(kg)\", \"Urine protein\", \"waist(cm)\",\n",
    "    \"eyesight(left)\", \"eyesight(right)\", \"systolic\", \"relaxation\",\n",
    "    \"fasting blood sugar\", \"Cholesterol\", \"triglyceride\", \"HDL\", \"LDL\",\n",
    "    \"hemoglobin\", \"serum creatinine\", \"AST\", \"ALT\", \"Gtp\"\n",
    "]\n",
    "\n",
    "df_ordinal_extended = df[ordinal_extended_features]\n",
    "\n",
    "# Spearman-Korrelation berechnen\n",
    "corr_spearman = df_ordinal_extended.corr(method='spearman')\n",
    "\n",
    "plt.figure(figsize=(12, 10))\n",
    "\n",
    "sns.heatmap(corr_spearman, annot=True, cmap='RdBu_r', center=0, \n",
    "            fmt='.2f', square=True)\n",
    "\n",
    "plt.show()"
   ]
  },
  {
   "cell_type": "markdown",
   "id": "41ee4879",
   "metadata": {},
   "source": [
    "### Cramer"
   ]
  },
  {
   "cell_type": "code",
   "execution_count": null,
   "id": "26cde470",
   "metadata": {},
   "outputs": [],
   "source": [
    "def cramers_v_corrected(x, y):\n",
    "    \"\"\"Berechnet Cramér's V mit Bias-Korrektur\"\"\"\n",
    "    confusion_matrix = pd.crosstab(x, y)\n",
    "    chi2, _, _, _ = chi2_contingency(confusion_matrix)\n",
    "    n = confusion_matrix.sum().sum()\n",
    "    \n",
    "    if n == 0:\n",
    "        return 0\n",
    "    \n",
    "    phi2 = chi2 / n\n",
    "    r, k = confusion_matrix.shape\n",
    "    \n",
    "    phi2corr = max(0, phi2 - ((k - 1)*(r - 1)) / (n - 1))\n",
    "    rcorr = r - ((r - 1)**2) / (n - 1)\n",
    "    kcorr = k - ((k - 1)**2) / (n - 1)\n",
    "    \n",
    "    denominator = min((kcorr - 1), (rcorr - 1))\n",
    "    if denominator <= 0:\n",
    "        return 0\n",
    "    \n",
    "    return np.sqrt(phi2corr / denominator)\n",
    "\n",
    "cramers_results = pd.DataFrame(\n",
    "    np.zeros((len(nominal_features), len(nominal_features))),\n",
    "    index=nominal_features,\n",
    "    columns=nominal_features\n",
    ")\n",
    "\n",
    "for col1 in nominal_features:\n",
    "    for col2 in nominal_features:\n",
    "        if col1 == col2:\n",
    "            cramers_results.loc[col1, col2] = 1.0\n",
    "        else:\n",
    "            cramers_results.loc[col1, col2] = cramers_v_corrected(df[col1], df[col2])\n",
    "            \n",
    "plt.figure(figsize=(10, 8))\n",
    "sns.heatmap(cramers_results, annot=True, cmap=\"RdBu_r\", fmt=\".3f\", \n",
    "            square=True, center=0, vmin=0, vmax=1)\n",
    "plt.title(\"Cramér's V - Nominale Merkmale\\n(Assoziationsstärke zwischen kategorialen Variablen)\", \n",
    "          fontsize=14, fontweight='bold')\n",
    "plt.tight_layout()\n",
    "plt.show()"
   ]
  },
  {
   "cell_type": "markdown",
   "id": "1366a996",
   "metadata": {},
   "source": [
    "## Benfords Law Factory"
   ]
  },
  {
   "cell_type": "code",
   "execution_count": null,
   "id": "e5c8b956",
   "metadata": {},
   "outputs": [],
   "source": [
    "benford_freq = np.log10(1 + 1 / np.arange(1, 10))\n",
    "\n",
    "for col in df.columns:\n",
    "    if df[col].dtype.kind in 'biufc':  # numeric columns only\n",
    "        values = df[col].dropna().astype(str)\n",
    "        leading_digits = values.str.lstrip('0').str.extract(r'^(\\d)').dropna()[0].astype(int)\n",
    "        observed_counts = leading_digits.value_counts().sort_index()\n",
    "        observed_freq = observed_counts / observed_counts.sum()\n",
    "\n",
    "        plt.figure(figsize=(8, 4))\n",
    "        plt.bar(observed_freq.index, observed_freq.values, alpha=0.7, label='Tatsächliche Verteilung')\n",
    "        plt.plot(np.arange(1, 10), benford_freq, 'ro-', label=\"Benford's Law\")\n",
    "        plt.xlabel('Führende Ziffer')\n",
    "        plt.ylabel('Rel. Häufigkeit')\n",
    "        # plt.title(f\"Leading Digit Distribution vs Benford's Law ('{col}')\")\n",
    "        plt.legend()\n",
    "        plt.show()\n"
   ]
  }
 ],
 "metadata": {
  "kernelspec": {
   "display_name": "Python 3",
   "language": "python",
   "name": "python3"
  },
  "language_info": {
   "codemirror_mode": {
    "name": "ipython",
    "version": 3
   },
   "file_extension": ".py",
   "mimetype": "text/x-python",
   "name": "python",
   "nbconvert_exporter": "python",
   "pygments_lexer": "ipython3",
   "version": "3.13.4"
  }
 },
 "nbformat": 4,
 "nbformat_minor": 5
}
