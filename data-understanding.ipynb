{
 "cells": [
  {
   "cell_type": "markdown",
   "id": "8526a5ec",
   "metadata": {},
   "source": [
    "# Data Understanding"
   ]
  },
  {
   "cell_type": "code",
   "execution_count": 5,
   "id": "6a0a3a5b",
   "metadata": {},
   "outputs": [],
   "source": [
    "import pandas as pd\n",
    "import seaborn as sns\n",
    "import matplotlib.pyplot as plt\n",
    "import numpy as np\n",
    "\n",
    "df = pd.read_csv(\"data/smoker_train.csv\")"
   ]
  },
  {
   "cell_type": "markdown",
   "id": "3fcbff4f",
   "metadata": {},
   "source": [
    "## Allgemeine Analyse"
   ]
  },
  {
   "cell_type": "code",
   "execution_count": null,
   "id": "bda6f773",
   "metadata": {},
   "outputs": [],
   "source": [
    "df.head()"
   ]
  },
  {
   "cell_type": "code",
   "execution_count": null,
   "id": "f441811c",
   "metadata": {},
   "outputs": [],
   "source": [
    "df.info()"
   ]
  },
  {
   "cell_type": "markdown",
   "id": "cca14745",
   "metadata": {},
   "source": [
    "## Merkmale"
   ]
  },
  {
   "cell_type": "markdown",
   "id": "9405189c",
   "metadata": {},
   "source": [
    "### Personendaten"
   ]
  },
  {
   "cell_type": "code",
   "execution_count": null,
   "id": "a3413a95",
   "metadata": {},
   "outputs": [],
   "source": [
    "# Smoking\n",
    "smoking_counts = df[\"smoking\"].value_counts()\n",
    "plt.figure(figsize=(6, 6))\n",
    "plt.pie(smoking_counts, labels=smoking_counts.index, autopct='%1.1f%%', startangle=90, colors=['#66b3ff','#ff9999'])\n",
    "plt.legend(title=\"Smoking\", labels=[\"Non-Smoker\", \"Smoker\"])\n",
    "plt.tight_layout()\n",
    "plt.show()"
   ]
  },
  {
   "cell_type": "code",
   "execution_count": null,
   "id": "4828a473",
   "metadata": {},
   "outputs": [],
   "source": [
    "# Age\n",
    "plt.figure(figsize=(8, 4))\n",
    "age_count = df['age'].value_counts().sort_index()\n",
    "plt.bar(age_count.index, age_count.values, width=2)\n",
    "plt.title('Age Distribution')\n",
    "plt.xlabel('Age')\n",
    "plt.ylabel('Count')\n",
    "plt.show()"
   ]
  },
  {
   "cell_type": "code",
   "execution_count": null,
   "id": "7c0b8fa8",
   "metadata": {},
   "outputs": [],
   "source": [
    "# Scatter plot: height vs weight\n",
    "plt.figure(figsize=(8, 4))\n",
    "plt.scatter(df['height(cm)'], df['weight(kg)'], alpha=0.3)\n",
    "plt.title('Height vs Weight')\n",
    "plt.xlabel('Height (cm)')\n",
    "plt.ylabel('Weight (kg)')\n",
    "plt.show()"
   ]
  },
  {
   "cell_type": "code",
   "execution_count": null,
   "id": "ba5b29b4",
   "metadata": {},
   "outputs": [],
   "source": [
    "# Boxplot of weight by smoking status\n",
    "df.boxplot(column='weight(kg)', by='smoking')\n",
    "plt.title('Weight by Smoking Status')\n",
    "plt.suptitle('')\n",
    "plt.xlabel('Smoking')\n",
    "plt.ylabel('Weight (kg)')\n",
    "plt.show()"
   ]
  },
  {
   "cell_type": "markdown",
   "id": "af06fd17",
   "metadata": {},
   "source": [
    "### Gesundheitswerte"
   ]
  },
  {
   "cell_type": "code",
   "execution_count": 8,
   "id": "48425e66",
   "metadata": {
    "vscode": {
     "languageId": "ruby"
    }
   },
   "outputs": [
    {
     "name": "stdout",
     "output_type": "stream",
     "text": [
      "Intervall  Eyesight (left)  Eyesight (right)\n",
      "   [0, 1)            15582             15778\n",
      "   [1, 2)            23046             22877\n",
      "   [2, 3)              286               261\n",
      "   [3, 9)                0                 0\n",
      "  [9, 10]               70                68\n"
     ]
    }
   ],
   "source": [
    "# Create the data for the table\n",
    "data = {\n",
    "    \"Intervall\": [\"[0, 1)\", \"[1, 2)\", \"[2, 3)\", \"[3, 9)\", \"[9, 10]\"],\n",
    "    \"Eyesight (left)\": [\n",
    "        df[(df['eyesight(left)'] >= 0) & (df['eyesight(left)'] < 1)].shape[0],\n",
    "        df[(df['eyesight(left)'] >= 1) & (df['eyesight(left)'] < 2)].shape[0],\n",
    "        df[(df['eyesight(left)'] >= 2) & (df['eyesight(left)'] < 3)].shape[0],\n",
    "        df[(df['eyesight(left)'] >= 3) & (df['eyesight(left)'] < 9)].shape[0],\n",
    "        df[(df['eyesight(left)'] >= 9) & (df['eyesight(left)'] < 10)].shape[0]\n",
    "    ],\n",
    "    \"Eyesight (right)\": [\n",
    "        df[(df['eyesight(right)'] >= 0) & (df['eyesight(right)'] < 1)].shape[0],\n",
    "        df[(df['eyesight(right)'] >= 1) & (df['eyesight(right)'] < 2)].shape[0],\n",
    "        df[(df['eyesight(right)'] >= 2) & (df['eyesight(right)'] < 3)].shape[0],\n",
    "        df[(df['eyesight(right)'] >= 3) & (df['eyesight(right)'] < 9)].shape[0],\n",
    "        df[(df['eyesight(right)'] >= 9) & (df['eyesight(right)'] <= 10)].shape[0]\n",
    "    ]\n",
    "}\n",
    "\n",
    "# Create DataFrame\n",
    "eyesight_df = pd.DataFrame(data)\n",
    "\n",
    "# Print the table\n",
    "print(eyesight_df.to_string(index=False))"
   ]
  },
  {
   "cell_type": "markdown",
   "id": "f3f3eb5f",
   "metadata": {},
   "source": [
    "### Leberwerte"
   ]
  },
  {
   "cell_type": "code",
   "execution_count": null,
   "id": "c69cbdda",
   "metadata": {},
   "outputs": [],
   "source": [
    "df_urine = pd.read_csv(\"data/smoker_train.csv\", usecols=[\"Urine protein\"])\n",
    "urine_counts = df_urine[\"Urine protein\"].value_counts().sort_index()\n",
    "print(urine_counts)"
   ]
  },
  {
   "cell_type": "markdown",
   "id": "b476b000",
   "metadata": {},
   "source": [
    "## Korrelation"
   ]
  },
  {
   "cell_type": "markdown",
   "id": "cd5000cc",
   "metadata": {},
   "source": [
    "### \"Simple\" Korrelationen"
   ]
  },
  {
   "cell_type": "code",
   "execution_count": null,
   "id": "dc6a5ebb",
   "metadata": {},
   "outputs": [],
   "source": [
    "# Hemoglobin - Smoking\n",
    "plt.figure(figsize=(8, 4))\n",
    "for status in df['smoking'].unique():\n",
    "    subset = df[df['smoking'] == status]\n",
    "    plt.hist(subset['hemoglobin'], bins=100, alpha=0.5, label=f'Smoking: {status}')\n",
    "plt.title('Hemoglobin Distribution by Smoking Status')\n",
    "plt.xlabel('Hemoglobin')\n",
    "plt.ylabel('Count')\n",
    "plt.legend()\n",
    "plt.show()"
   ]
  },
  {
   "cell_type": "code",
   "execution_count": null,
   "id": "9d00c976",
   "metadata": {},
   "outputs": [],
   "source": [
    "# Hemoglobin - Height\n",
    "plt.figure(figsize=(8, 4))\n",
    "for status in df['smoking'].unique():\n",
    "    subset = df[df['smoking'] == status]\n",
    "    plt.hist(subset['height(cm)'], bins=11, alpha=0.5, label=f'Smoking: {status}')\n",
    "plt.title('Height(cm) Distribution by Smoking Status')\n",
    "plt.xlabel('Height(cm)')\n",
    "plt.ylabel('Count')\n",
    "plt.legend()\n",
    "plt.show()"
   ]
  },
  {
   "cell_type": "code",
   "execution_count": null,
   "id": "1058698f",
   "metadata": {},
   "outputs": [],
   "source": [
    "# Pairplot \n",
    "sns.pairplot(df, hue='smoking', vars=['age', 'height(cm)', 'weight(kg)', 'hemoglobin'])\n",
    "plt.suptitle('Pairplot of Features by Smoking Status', y=1.02)\n",
    "plt.show()"
   ]
  },
  {
   "cell_type": "markdown",
   "id": "1366a996",
   "metadata": {},
   "source": [
    "## Benfords Law Factory"
   ]
  },
  {
   "cell_type": "code",
   "execution_count": null,
   "id": "e5c8b956",
   "metadata": {},
   "outputs": [],
   "source": [
    "benford_freq = np.log10(1 + 1 / np.arange(1, 10))\n",
    "\n",
    "for col in df.columns:\n",
    "    if df[col].dtype.kind in 'biufc':  # numeric columns only\n",
    "        values = df[col].dropna().astype(str)\n",
    "        leading_digits = values.str.lstrip('0').str.extract(r'^(\\d)').dropna()[0].astype(int)\n",
    "        observed_counts = leading_digits.value_counts().sort_index()\n",
    "        observed_freq = observed_counts / observed_counts.sum()\n",
    "\n",
    "        plt.figure(figsize=(8, 4))\n",
    "        plt.bar(observed_freq.index, observed_freq.values, alpha=0.7, label='Tatsächliche Verteilung')\n",
    "        plt.plot(np.arange(1, 10), benford_freq, 'ro-', label=\"Benford's Law\")\n",
    "        plt.xlabel('Führende Ziffer')\n",
    "        plt.ylabel('Rel. Häufigkeit')\n",
    "        # plt.title(f\"Leading Digit Distribution vs Benford's Law ('{col}')\")\n",
    "        plt.legend()\n",
    "        plt.show()\n"
   ]
  }
 ],
 "metadata": {
  "kernelspec": {
   "display_name": "Python 3",
   "language": "python",
   "name": "python3"
  },
  "language_info": {
   "codemirror_mode": {
    "name": "ipython",
    "version": 3
   },
   "file_extension": ".py",
   "mimetype": "text/x-python",
   "name": "python",
   "nbconvert_exporter": "python",
   "pygments_lexer": "ipython3",
   "version": "3.13.4"
  }
 },
 "nbformat": 4,
 "nbformat_minor": 5
}
