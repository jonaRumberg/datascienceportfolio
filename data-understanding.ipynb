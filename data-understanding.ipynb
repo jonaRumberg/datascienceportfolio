{
 "cells": [
  {
   "cell_type": "markdown",
   "id": "8526a5ec",
   "metadata": {},
   "source": [
    "# Data Understanding"
   ]
  },
  {
   "cell_type": "code",
   "execution_count": 4,
   "id": "6a0a3a5b",
   "metadata": {},
   "outputs": [],
   "source": [
    "import pandas as pd\n",
    "\n",
    "df = pd.read_csv(\"data/smoker_train.csv\")"
   ]
  },
  {
   "cell_type": "markdown",
   "id": "cca14745",
   "metadata": {},
   "source": [
    "## Merkmale"
   ]
  },
  {
   "cell_type": "markdown",
   "id": "f3f3eb5f",
   "metadata": {},
   "source": [
    "### Leberwerte"
   ]
  },
  {
   "cell_type": "code",
   "execution_count": 5,
   "id": "c69cbdda",
   "metadata": {},
   "outputs": [
    {
     "name": "stdout",
     "output_type": "stream",
     "text": [
      "Urine protein\n",
      "1    36836\n",
      "2     1236\n",
      "3      667\n",
      "4      182\n",
      "5       58\n",
      "6        5\n",
      "Name: count, dtype: int64\n"
     ]
    }
   ],
   "source": [
    "df_urine = pd.read_csv(\"data/smoker_train.csv\", usecols=[\"Urine protein\"])\n",
    "urine_counts = df_urine[\"Urine protein\"].value_counts().sort_index()\n",
    "print(urine_counts)"
   ]
  }
 ],
 "metadata": {
  "kernelspec": {
   "display_name": "Python 3",
   "language": "python",
   "name": "python3"
  },
  "language_info": {
   "codemirror_mode": {
    "name": "ipython",
    "version": 3
   },
   "file_extension": ".py",
   "mimetype": "text/x-python",
   "name": "python",
   "nbconvert_exporter": "python",
   "pygments_lexer": "ipython3",
   "version": "3.13.4"
  }
 },
 "nbformat": 4,
 "nbformat_minor": 5
}
